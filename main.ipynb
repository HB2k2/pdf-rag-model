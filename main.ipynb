{
 "cells": [
  {
   "cell_type": "code",
   "execution_count": 1,
   "id": "0d375bfa",
   "metadata": {},
   "outputs": [],
   "source": [
    "from dotenv import load_dotenv\n",
    "load_dotenv()\n",
    "import os"
   ]
  },
  {
   "cell_type": "code",
   "execution_count": 2,
   "id": "3810cff4",
   "metadata": {},
   "outputs": [],
   "source": [
    "LANGSMITH_TRACING=\"true\"\n",
    "LANGSMITH_ENDPOINT=\"https://api.smith.langchain.com\"\n",
    "LANGSMITH_API_KEY=os.getenv('langsmith_api_key')\n",
    "LANGSMITH_PROJECT=\"pdf-rag-model\"\n",
    "GOOGLE_API_KEY=os.getenv('google_api_key')"
   ]
  },
  {
   "cell_type": "code",
   "execution_count": 4,
   "id": "905fdfaf",
   "metadata": {},
   "outputs": [],
   "source": [
    "os.environ[\"LANGCHAIN_TRACING_V2\"] = LANGSMITH_TRACING\n",
    "os.environ[\"LANGCHAIN_ENDPOINT\"] = LANGSMITH_ENDPOINT\n",
    "os.environ[\"LANGCHAIN_API_KEY\"]= LANGSMITH_API_KEY\n",
    "os.environ[\"LANGCHAIN_PROJECT\"]= LANGSMITH_PROJECT"
   ]
  },
  {
   "cell_type": "code",
   "execution_count": 5,
   "id": "5b510698",
   "metadata": {},
   "outputs": [],
   "source": [
    "os.environ[\"GOOGLE_API_KEY\"] = GOOGLE_API_KEY"
   ]
  },
  {
   "cell_type": "code",
   "execution_count": 6,
   "id": "a3a370b5",
   "metadata": {},
   "outputs": [],
   "source": [
    "import warnings\n",
    "warnings.filterwarnings(\"ignore\")"
   ]
  },
  {
   "cell_type": "code",
   "execution_count": 7,
   "id": "cef77e64",
   "metadata": {},
   "outputs": [],
   "source": [
    "from langchain_google_genai import GoogleGenerativeAIEmbeddings\n",
    "gemini_embeddings = GoogleGenerativeAIEmbeddings(\n",
    "    model=\"models/embedding-001\",\n",
    ")"
   ]
  },
  {
   "cell_type": "code",
   "execution_count": 8,
   "id": "8785f973",
   "metadata": {},
   "outputs": [],
   "source": [
    "from langchain_google_genai import ChatGoogleGenerativeAI\n",
    "model = ChatGoogleGenerativeAI(model = \"gemini-1.5-pro\", convert_system_message_to_human=True)"
   ]
  },
  {
   "cell_type": "code",
   "execution_count": 9,
   "id": "cf729a1f",
   "metadata": {},
   "outputs": [
    {
     "name": "stdout",
     "output_type": "stream",
     "text": [
      "Hi there! How can I help you today?\n"
     ]
    }
   ],
   "source": [
    "print(model.invoke(\"hi\").content)"
   ]
  },
  {
   "cell_type": "code",
   "execution_count": 10,
   "id": "4232f26d",
   "metadata": {},
   "outputs": [],
   "source": [
    "from langchain import hub\n",
    "from langchain.chains import create_retrieval_chain\n",
    "from langchain.chains.combine_documents import create_stuff_documents_chain\n",
    "from langchain_chroma import Chroma\n",
    "from langchain_core.prompts import ChatPromptTemplate\n",
    "from langchain_text_splitters import RecursiveCharacterTextSplitter\n",
    "from langchain_core.prompts import MessagesPlaceholder"
   ]
  },
  {
   "cell_type": "code",
   "execution_count": 28,
   "id": "a3b3daca",
   "metadata": {},
   "outputs": [],
   "source": [
    "from langchain_community.document_loaders import TextLoader\n",
    "\n",
    "loader = TextLoader('book.txt', encoding='utf-8')\n",
    "documents = loader.load()\n",
    "text_splitter = RecursiveCharacterTextSplitter(chunk_size=200, chunk_overlap=40)\n",
    "docs = text_splitter.split_documents(documents)"
   ]
  },
  {
   "cell_type": "code",
   "execution_count": 29,
   "id": "ae29f5a6",
   "metadata": {},
   "outputs": [
    {
     "data": {
      "text/plain": [
       "[Document(metadata={'source': 'book.txt'}, page_content='We have kicked off the Fresh Thinking Entrepreneurial Challenge for 2024 and are excited to have you grow with us. If you have not seen it yet, the full list of all 12 books we will be reading this'),\n",
       " Document(metadata={'source': 'book.txt'}, page_content='of all 12 books we will be reading this year can be found here.'),\n",
       " Document(metadata={'source': 'book.txt'}, page_content='The first book we are going to review, for our February challenge book, is GOOD TO GREAT by Jim Collins.'),\n",
       " Document(metadata={'source': 'book.txt'}, page_content='Jim Collins’ influential business book, Good to Great: Why Some Companies Make the Leap… and Others Don’t, opens a new window, was released in 2001. The creation of this book was the product of an'),\n",
       " Document(metadata={'source': 'book.txt'}, page_content='of this book was the product of an extensive study project in which Collins and his colleagues examined a number of outstanding businesses to determine the elements that enabled them to attain and'),\n",
       " Document(metadata={'source': 'book.txt'}, page_content='that enabled them to attain and maintain extraordinary levels of performance. We will go into the major ideas and significant takeaways from “Good to Great” in this synopsis.'),\n",
       " Document(metadata={'source': 'book.txt'}, page_content='Introduction: The Search for Greatness'),\n",
       " Document(metadata={'source': 'book.txt'}, page_content='Can a good firm become a great company and, if so, how? is the main query Jim Collins poses in the opening chapter of “Good to Great, opens a new window.” Collins and his team set out to determine'),\n",
       " Document(metadata={'source': 'book.txt'}, page_content='and his team set out to determine what made good companies different from those that attained long-term success. In order to find trends and connections, the study involves analyzing financial data,'),\n",
       " Document(metadata={'source': 'book.txt'}, page_content='involves analyzing financial data, conducting interviews, and looking at corporate histories.'),\n",
       " Document(metadata={'source': 'book.txt'}, page_content='Chapter 1: Good is the Enemy of Great'),\n",
       " Document(metadata={'source': 'book.txt'}, page_content='The main thesis of the book — that good is the adversary of great — is introduced in the first chapter. Collins notes that many companies, despite their strong performance, never reach greatness'),\n",
       " Document(metadata={'source': 'book.txt'}, page_content='performance, never reach greatness because they grow complacent with it. Instead of aiming for greatness, they compromise for mediocrity. The research for the book tried to comprehend why some'),\n",
       " Document(metadata={'source': 'book.txt'}, page_content='the book tried to comprehend why some businesses were able to overcome this complacency and take the next step toward greatness.'),\n",
       " Document(metadata={'source': 'book.txt'}, page_content='Chapter 2: Level 5 Leadership'),\n",
       " Document(metadata={'source': 'book.txt'}, page_content='The idea of Level 5 Leadership is one of the study’s primary conclusions. Collins characterizes Level 5 leaders as possessing a special blend of individual humility and organizational will. These'),\n",
       " Document(metadata={'source': 'book.txt'}, page_content='humility and organizational will. These leaders have a captivating modesty and are aspirational for the organization, not for themselves. The success of the organization comes before personal success'),\n",
       " Document(metadata={'source': 'book.txt'}, page_content='comes before personal success for the Level 5 leader.'),\n",
       " Document(metadata={'source': 'book.txt'}, page_content='Chapter 3: First Who, Then What'),\n",
       " Document(metadata={'source': 'book.txt'}, page_content='Collins offers the notion that exceptional businesses prioritize “who” decisions prior to dealing with “what” decisions. Prior to deciding the company’s strategic direction, he stresses the'),\n",
       " Document(metadata={'source': 'book.txt'}, page_content='strategic direction, he stresses the significance of getting the right people on the bus (the company) and in the right seats (the right roles). The appropriate individuals are self-driven and do not'),\n",
       " Document(metadata={'source': 'book.txt'}, page_content='individuals are self-driven and do not require strict management.'),\n",
       " Document(metadata={'source': 'book.txt'}, page_content='Chapter 4: Confront the Brutal Facts (Yet Never Lose Faith)'),\n",
       " Document(metadata={'source': 'book.txt'}, page_content='Collins addresses “the Stockdale Paradox,” a theory that has the name of Admiral James Stockdale, a man who endured years of captivity during the Vietnam War, in this chapter. The paradox entails'),\n",
       " Document(metadata={'source': 'book.txt'}, page_content='in this chapter. The paradox entails facing the unflinching reality of a circumstance but simultaneously remaining confident in ultimate achievement. Collins shows how successful businesses have a'),\n",
       " Document(metadata={'source': 'book.txt'}, page_content='shows how successful businesses have a culture of facing the truth and being open to change, even under trying circumstances.'),\n",
       " Document(metadata={'source': 'book.txt'}, page_content='Chapter 5: The Hedgehog Concept'),\n",
       " Document(metadata={'source': 'book.txt'}, page_content='The Hedgehog Concept is one of the book’s main concepts, according to Collins. Great businesses, according to him, concentrate on their competitive advantages, the sources of their revenue, and their'),\n",
       " Document(metadata={'source': 'book.txt'}, page_content='the sources of their revenue, and their core values. This idea aids businesses in identifying their special specialty and excelling in it.'),\n",
       " Document(metadata={'source': 'book.txt'}, page_content='Chapter 6: A Culture of Discipline'),\n",
       " Document(metadata={'source': 'book.txt'}, page_content='Instead of a bureaucratic culture, great organizations have one of discipline. Collins talks about the significance of fostering a culture of self-discipline among staff members to ensure their'),\n",
       " Document(metadata={'source': 'book.txt'}, page_content='among staff members to ensure their adherence to the fundamental ideals and tenets of the company. An operation that is concentrated and effective results from this discipline.'),\n",
       " Document(metadata={'source': 'book.txt'}, page_content='Chapter 7: Technology Accelerators'),\n",
       " Document(metadata={'source': 'book.txt'}, page_content='Collins examines how technology might be greatness’s accelerator rather than its driver. He contends that rather than relying on technology to provide them a competitive edge, successful firms use it'),\n",
       " Document(metadata={'source': 'book.txt'}, page_content='edge, successful firms use it as a tool to enhance their core competencies and business strategy.'),\n",
       " Document(metadata={'source': 'book.txt'}, page_content='Chapter 8: The Flywheel and the Doom Loop'),\n",
       " Document(metadata={'source': 'book.txt'}, page_content='Collins proposes the concept of the Flywheel Effect, which states that regular, modest moves in the proper direction build up significant momentum. While mediocre firms fall into a Doom Loop of'),\n",
       " Document(metadata={'source': 'book.txt'}, page_content='mediocre firms fall into a Doom Loop of responding to outside variables rather than making persistent efforts to improve, great companies concentrate on creating and maintaining their flywheel.'),\n",
       " Document(metadata={'source': 'book.txt'}, page_content='Chapter 9: From Good to Great to Built to Last'),\n",
       " Document(metadata={'source': 'book.txt'}, page_content='The last chapter covers the process of going from a decent firm to a great one and maintaining greatness over time. Collins emphasizes the need for enduring core beliefs and concepts that stand the'),\n",
       " Document(metadata={'source': 'book.txt'}, page_content='beliefs and concepts that stand the test of time and resist shifts in leadership and outside forces.'),\n",
       " Document(metadata={'source': 'book.txt'}, page_content='Conclusion: A Blueprint for Sustained Greatness'),\n",
       " Document(metadata={'source': 'book.txt'}, page_content='In the conclusion, Collins recaps the key principles of greatness outlined in the book, emphasizing the importance of Level 5 Leadership, the Hedgehog Concept, and the Flywheel Effect. He concludes'),\n",
       " Document(metadata={'source': 'book.txt'}, page_content='and the Flywheel Effect. He concludes by encouraging organizations to strive for greatness and to consistently apply the principles uncovered in the research.'),\n",
       " Document(metadata={'source': 'book.txt'}, page_content='Summary of Key Concepts'),\n",
       " Document(metadata={'source': 'book.txt'}, page_content='From Good to Great: Collins presents the key premise that many businesses fail to become great because they become complacent. The goal of the study is to determine what sets the two apart.'),\n",
       " Document(metadata={'source': 'book.txt'}, page_content='Level 5 Leadership: Level 5 executives put the success of the firm ahead of their own egos, displaying a rare blend of humility and willpower. Instead of being ambitious for themselves, they are.'),\n",
       " Document(metadata={'source': 'book.txt'}, page_content='Collins emphasizes the significance of putting together the correct team before deciding the company’s strategic path. First, “who” decisions are the center of great businesses.'),\n",
       " Document(metadata={'source': 'book.txt'}, page_content='Face the Brutal Facts: The Stockdale Paradox serves as an example of the need to face the harsh realities of a situation while retaining unflinching trust in the outcome.'),\n",
       " Document(metadata={'source': 'book.txt'}, page_content='Finding what the company can be the best in the world at, what powers its economic engine, and what it is intensely enthusiastic about are all part of the “Hedgehog Concept.”'),\n",
       " Document(metadata={'source': 'book.txt'}, page_content='Great businesses have a disciplined work environment where employees uphold the company’s basic beliefs and ideals.'),\n",
       " Document(metadata={'source': 'book.txt'}, page_content='Technology Accelerators: Rather than being a force for greatness, technology is considered a tool to enhance core qualities and methods.'),\n",
       " Document(metadata={'source': 'book.txt'}, page_content='The Doom Loop is the propensity to react rather than act in order to attain greatness, whereas the Flywheel Effect reflects the inclination to act rather than react to achieve greatness.\\nConclusion'),\n",
       " Document(metadata={'source': 'book.txt'}, page_content='Jim Collins’ book “Good to Great, opens a new window” delves deeply into the defining traits of businesses that make the transition from good to outstanding. The book offers an understandable'),\n",
       " Document(metadata={'source': 'book.txt'}, page_content='The book offers an understandable structure and guiding concepts that can assist companies in their quest for long-term greatness. Businesses can develop the momentum necessary to experience'),\n",
       " Document(metadata={'source': 'book.txt'}, page_content='the momentum necessary to experience long-term success by concentrating on Level 5 Leadership, the Hedgehog Concept, and a culture of discipline.'),\n",
       " Document(metadata={'source': 'book.txt'}, page_content='Business leaders, entrepreneurs, and anyone else interested in learning about the variables that contribute to exceptional organizational performance will benefit from the book’s research-based'),\n",
       " Document(metadata={'source': 'book.txt'}, page_content='benefit from the book’s research-based insights, case studies, and principles. The takeaway from Collins’ book is simple: greatness is possible, but it takes a mix of leadership, strategy, culture,'),\n",
       " Document(metadata={'source': 'book.txt'}, page_content='a mix of leadership, strategy, culture, and discipline, as well as steadfast adherence to enduring core values.')]"
      ]
     },
     "execution_count": 29,
     "metadata": {},
     "output_type": "execute_result"
    }
   ],
   "source": [
    "docs"
   ]
  },
  {
   "cell_type": "code",
   "execution_count": 30,
   "id": "cb2258b7",
   "metadata": {},
   "outputs": [],
   "source": [
    "vectorestore = Chroma.from_documents(\n",
    "    documents=docs,\n",
    "    embedding=gemini_embeddings,\n",
    ")"
   ]
  },
  {
   "cell_type": "code",
   "execution_count": 43,
   "id": "db73ee67",
   "metadata": {},
   "outputs": [
    {
     "data": {
      "text/plain": [
       "[Document(id='d23a5316-3579-4294-a093-e01962210b6e', metadata={'source': 'book.txt'}, page_content='chapter.'),\n",
       " Document(id='48a69b97-5050-4af5-838c-1dce6617dfb5', metadata={'source': 'book.txt'}, page_content='chapter.'),\n",
       " Document(id='29cd7944-ac20-44ff-9705-4283a80c0d9c', metadata={'source': 'book.txt'}, page_content='Chapter 4: Confront the Brutal Facts (Yet Never Lose Faith)'),\n",
       " Document(id='4db246d8-285c-4e53-8442-9fbb84d45fe9', metadata={'source': 'book.txt'}, page_content='Chapter 4: Confront the Brutal Facts (Yet Never Lose Faith)'),\n",
       " Document(id='970ca799-0687-4145-8e8e-186cc08061cf', metadata={'source': 'book.txt'}, page_content='the first chapter. Collins notes that many companies, despite their strong performance, never reach'),\n",
       " Document(id='e421f12c-08d6-47e1-a9af-27245507eaff', metadata={'source': 'book.txt'}, page_content='a man who endured years of captivity during the Vietnam War, in this chapter. The paradox entails'),\n",
       " Document(id='8272d141-b896-45db-b1e0-656a0fc177ed', metadata={'source': 'book.txt'}, page_content='Collins addresses “the Stockdale Paradox,” a theory that has the name of Admiral James Stockdale, a man who endured years of captivity during the Vietnam War, in this chapter. The paradox entails'),\n",
       " Document(id='7629a63b-b9a6-4b9d-922e-1f90393e5a9f', metadata={'source': 'book.txt'}, page_content='8: The'),\n",
       " Document(id='de85f24f-2a2e-42c0-8d25-4b923926d768', metadata={'source': 'book.txt'}, page_content='5: The'),\n",
       " Document(id='ad661d45-272c-4fa9-a387-6a3111fe14bc', metadata={'source': 'book.txt'}, page_content='the importance of Level 5 Leadership, the Hedgehog Concept, and the Flywheel Effect. He concludes'),\n",
       " Document(id='26626f3f-9bb4-4466-80bc-d7be25a9d6cb', metadata={'source': 'book.txt'}, page_content='The last chapter covers the process of going from a decent firm to a great one and maintaining'),\n",
       " Document(id='ffe71a72-e0a0-4a43-aed3-3a6ff00a9b46', metadata={'source': 'book.txt'}, page_content='in this chapter. The paradox entails facing the unflinching reality of a circumstance but simultaneously remaining confident in ultimate achievement. Collins shows how successful businesses have a'),\n",
       " Document(id='d79cceeb-120d-4e76-b6e2-c6399d5b66d5', metadata={'source': 'book.txt'}, page_content='chapter'),\n",
       " Document(id='de1f1198-d548-4e62-a7f7-0729d59debb3', metadata={'source': 'book.txt'}, page_content='chapter'),\n",
       " Document(id='6a0a81bb-4c26-45a9-9f40-ac6e9501f01f', metadata={'source': 'book.txt'}, page_content='Chapter'),\n",
       " Document(id='f90e8845-6f90-4754-b9c7-afcfacd44777', metadata={'source': 'book.txt'}, page_content='Chapter'),\n",
       " Document(id='5128e191-f3c0-451a-8019-cd24a20339a0', metadata={'source': 'book.txt'}, page_content='Chapter'),\n",
       " Document(id='5f3b12e6-27a4-4c20-a2a7-d7a0d0222d75', metadata={'source': 'book.txt'}, page_content='Chapter'),\n",
       " Document(id='eb57f735-f81b-483a-9617-a2bb19e3548b', metadata={'source': 'book.txt'}, page_content='Chapter'),\n",
       " Document(id='bac70097-f678-4c27-a957-abe0512d0281', metadata={'source': 'book.txt'}, page_content='Chapter')]"
      ]
     },
     "execution_count": 43,
     "metadata": {},
     "output_type": "execute_result"
    }
   ],
   "source": [
    "query = \"Chapter 6\"\n",
    "docs = vectorestore.similarity_search(query, k=20)\n",
    "docs"
   ]
  },
  {
   "cell_type": "code",
   "execution_count": 31,
   "id": "32638958",
   "metadata": {},
   "outputs": [],
   "source": [
    "retriever = vectorestore.as_retriever()"
   ]
  },
  {
   "cell_type": "code",
   "execution_count": 32,
   "id": "2af0e825",
   "metadata": {},
   "outputs": [
    {
     "data": {
      "text/plain": [
       "VectorStoreRetriever(tags=['Chroma', 'GoogleGenerativeAIEmbeddings'], vectorstore=<langchain_chroma.vectorstores.Chroma object at 0x0000022A3C39BE90>, search_kwargs={})"
      ]
     },
     "execution_count": 32,
     "metadata": {},
     "output_type": "execute_result"
    }
   ],
   "source": [
    "retriever"
   ]
  },
  {
   "cell_type": "code",
   "execution_count": 33,
   "id": "1232618e",
   "metadata": {},
   "outputs": [],
   "source": [
    "system_prompt = (\n",
    "    \"You are an assistant for question answering tasks. \"\n",
    "    \"Use the following pieces of retrieved context to answer the question. \"\n",
    "    \"If you don't know the answer, just say that you don't know. \"\n",
    "    \"Use three sentences maximum and keep the answer concise.\"\n",
    "    \"\\n\\n\"\n",
    "    \"{context}\"\n",
    ")"
   ]
  },
  {
   "cell_type": "code",
   "execution_count": 34,
   "id": "30668067",
   "metadata": {},
   "outputs": [],
   "source": [
    "chat_prompt = ChatPromptTemplate.from_messages(\n",
    "    [\n",
    "        (\"system\", system_prompt),\n",
    "        (\"human\", \"{input}\"),\n",
    "    ]\n",
    ")"
   ]
  },
  {
   "cell_type": "code",
   "execution_count": 35,
   "id": "13391e03",
   "metadata": {},
   "outputs": [],
   "source": [
    "question_answering_chain = create_stuff_documents_chain(model, chat_prompt)"
   ]
  },
  {
   "cell_type": "code",
   "execution_count": null,
   "id": "a2672947",
   "metadata": {},
   "outputs": [],
   "source": [
    "result = rag_chain = create_retrieval_chain(retriever, question_answering_chain)\n",
    "result['answer']"
   ]
  },
  {
   "cell_type": "code",
   "execution_count": null,
   "id": "7dbcf048",
   "metadata": {},
   "outputs": [
    {
     "data": {
      "text/plain": [
       "{'input': 'What is Chapter 4 about?',\n",
       " 'context': [Document(id='29cd7944-ac20-44ff-9705-4283a80c0d9c', metadata={'source': 'book.txt'}, page_content='Chapter 4: Confront the Brutal Facts (Yet Never Lose Faith)'),\n",
       "  Document(id='4db246d8-285c-4e53-8442-9fbb84d45fe9', metadata={'source': 'book.txt'}, page_content='Chapter 4: Confront the Brutal Facts (Yet Never Lose Faith)'),\n",
       "  Document(id='8272d141-b896-45db-b1e0-656a0fc177ed', metadata={'source': 'book.txt'}, page_content='Collins addresses “the Stockdale Paradox,” a theory that has the name of Admiral James Stockdale, a man who endured years of captivity during the Vietnam War, in this chapter. The paradox entails'),\n",
       "  Document(id='ffe71a72-e0a0-4a43-aed3-3a6ff00a9b46', metadata={'source': 'book.txt'}, page_content='in this chapter. The paradox entails facing the unflinching reality of a circumstance but simultaneously remaining confident in ultimate achievement. Collins shows how successful businesses have a')],\n",
       " 'answer': 'Chapter 4, titled \"Confront the Brutal Facts (Yet Never Lose Faith),\" discusses the Stockdale Paradox.  This paradox, named after Admiral James Stockdale, involves accepting the harsh realities of a situation while maintaining faith in eventual success.  It explores how successful businesses apply this principle.'}"
      ]
     },
     "execution_count": 46,
     "metadata": {},
     "output_type": "execute_result"
    }
   ],
   "source": [
    "result = rag_chain.invoke({\"input\": \"What is Chapter 4 about?\"})\n",
    "result['answer']"
   ]
  },
  {
   "cell_type": "code",
   "execution_count": null,
   "id": "5ddf4bf0",
   "metadata": {},
   "outputs": [
    {
     "data": {
      "text/plain": [
       "{'input': 'What is the conclusion?',\n",
       " 'context': [Document(id='aa06744c-5b32-4d99-8f01-cf44bb65cb12', metadata={'source': 'book.txt'}, page_content='The idea of Level 5 Leadership is one of the study’s primary conclusions. Collins characterizes'),\n",
       "  Document(id='88d1d528-6e1d-42f6-8064-77f60d6a9e11', metadata={'source': 'book.txt'}, page_content='The idea of Level 5 Leadership is one of the study’s primary conclusions. Collins characterizes Level 5 leaders as possessing a special blend of individual humility and organizational will. These'),\n",
       "  Document(id='ef2e8a0f-b991-404b-995f-7a7b7a0b2f0d', metadata={'source': 'book.txt'}, page_content='Conclusion'),\n",
       "  Document(id='9303847e-ade8-4e23-ad2d-e37b19e6f682', metadata={'source': 'book.txt'}, page_content='In the conclusion, Collins recaps the key principles of greatness outlined in the book, emphasizing')],\n",
       " 'answer': 'The conclusion emphasizes the key principles of greatness outlined in the book.  A primary concept is Level 5 Leadership, which blends individual humility and organizational will.  Collins developed this concept as a main finding of his study.'}"
      ]
     },
     "execution_count": 40,
     "metadata": {},
     "output_type": "execute_result"
    }
   ],
   "source": [
    "result = rag_chain.invoke({\"input\": \"What is the conclusion?\"})\n",
    "result['answer']"
   ]
  },
  {
   "cell_type": "code",
   "execution_count": null,
   "id": "f37bc14f",
   "metadata": {},
   "outputs": [
    {
     "data": {
      "text/plain": [
       "{'input': 'What is the Summary of Key Concepts?',\n",
       " 'context': [Document(id='c29edf31-9ba6-4fd2-8744-49f9030eaae6', metadata={'source': 'book.txt'}, page_content='In the conclusion, Collins recaps the key principles of greatness outlined in the book, emphasizing the importance of Level 5 Leadership, the Hedgehog Concept, and the Flywheel Effect. He concludes'),\n",
       "  Document(id='4a8d2644-94ad-498d-b5b2-3fe2dad6cf7d', metadata={'source': 'book.txt'}, page_content='The last chapter covers the process of going from a decent firm to a great one and maintaining greatness over time. Collins emphasizes the need for enduring core beliefs and concepts that stand the'),\n",
       "  Document(id='1454f732-403b-40da-8770-f89b843294d4', metadata={'source': 'book.txt'}, page_content='maintain extraordinary levels of performance. We will go into the major ideas and significant'),\n",
       "  Document(id='d9aa70e5-c805-47bd-aba8-3495abe0035c', metadata={'source': 'book.txt'}, page_content='greatness over time. Collins emphasizes the need for enduring core beliefs and concepts that stand')],\n",
       " 'answer': 'Collins emphasizes Level 5 Leadership, the Hedgehog Concept, and the Flywheel Effect as key principles for achieving greatness.  Maintaining greatness requires enduring core values and beliefs.  These concepts are explored in detail, particularly the transition to and sustaining of exceptional performance.'}"
      ]
     },
     "execution_count": 44,
     "metadata": {},
     "output_type": "execute_result"
    }
   ],
   "source": [
    "result = rag_chain.invoke({\"input\": \"What is the Summary of Key Concepts?\"})\n",
    "result['answer']"
   ]
  },
  {
   "cell_type": "code",
   "execution_count": null,
   "id": "38276ecd",
   "metadata": {},
   "outputs": [
    {
     "data": {
      "text/plain": [
       "{'input': 'What is mentioned about Technology Accelerators?',\n",
       " 'context': [Document(id='7a7e6126-2d76-4e1a-9072-c93e016b2ebd', metadata={'source': 'book.txt'}, page_content='Technology Accelerators: Rather than being a force for greatness, technology is considered a tool'),\n",
       "  Document(id='55a02e3e-15a3-43b2-83ab-6290df27ca31', metadata={'source': 'book.txt'}, page_content='Technology Accelerators: Rather than being a force for greatness, technology is considered a tool to enhance core qualities and methods.'),\n",
       "  Document(id='a92a7bb9-6479-4bc9-952e-8634313b4294', metadata={'source': 'book.txt'}, page_content='Chapter 7: Technology Accelerators'),\n",
       "  Document(id='a6eef6cc-9c43-4291-aca8-46103f88b476', metadata={'source': 'book.txt'}, page_content='Chapter 7: Technology Accelerators')],\n",
       " 'answer': 'Technology accelerators are discussed in Chapter 7.  They are considered tools that enhance core qualities and methods, rather than a force for greatness on their own.  The provided context focuses on their role as a supporting element.'}"
      ]
     },
     "execution_count": 45,
     "metadata": {},
     "output_type": "execute_result"
    }
   ],
   "source": [
    "result = rag_chain.invoke({\"input\": \"What is mentioned about Technology Accelerators?\"})\n",
    "result['answer']"
   ]
  },
  {
   "cell_type": "code",
   "execution_count": null,
   "id": "a3496ce9",
   "metadata": {},
   "outputs": [],
   "source": [
    "result = rag_chain.invoke({\"input\": \"What is the Summary of Key Concepts?\"})\n",
    "result['answer']"
   ]
  }
 ],
 "metadata": {
  "kernelspec": {
   "display_name": "venv",
   "language": "python",
   "name": "python3"
  },
  "language_info": {
   "codemirror_mode": {
    "name": "ipython",
    "version": 3
   },
   "file_extension": ".py",
   "mimetype": "text/x-python",
   "name": "python",
   "nbconvert_exporter": "python",
   "pygments_lexer": "ipython3",
   "version": "3.12.1"
  }
 },
 "nbformat": 4,
 "nbformat_minor": 5
}
